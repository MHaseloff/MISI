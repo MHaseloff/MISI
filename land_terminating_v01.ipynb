{
 "cells": [
  {
   "cell_type": "code",
   "execution_count": 1,
   "metadata": {},
   "outputs": [],
   "source": [
    "# Importing the packages we will need\n",
    "from __future__ import print_function\n",
    "from __future__ import division\n",
    "from IPython.display import display, clear_output, HTML\n",
    "from ipywidgets import Button, Layout, GridBox, ButtonStyle, HBox, VBox, Label, Dropdown\n",
    "from ipywidgets import interact, interactive, fixed, interact_manual\n",
    "%matplotlib inline\n",
    "from matplotlib import pyplot as plt\n",
    "from matplotlib.gridspec import GridSpec\n",
    "\n",
    "import ipywidgets as ipw\n",
    "import pandas as pd\n",
    "import math\n",
    "import numpy as np\n",
    "import os.path\n",
    "import glob\n",
    "import warnings\n",
    "import platform\n",
    "import time\n",
    "\n",
    "#font = {'family' : 'normal',\n",
    "#        'weight' : 'normal',\n",
    "#        'size'   : 22}\n",
    "\n",
    "#plt.rc('font', **font)\n",
    "plt.rcParams.update({'font.size': 12})"
   ]
  },
  {
   "cell_type": "code",
   "execution_count": 2,
   "metadata": {
    "extensions": {
     "jupyter_dashboards": {
      "version": 1,
      "views": {
       "grid_default": {
        "col": 6,
        "height": 15,
        "hidden": false,
        "row": 29,
        "width": "960px"
       },
       "report_default": {
        "col": 4,
        "height": 4,
        "hidden": false,
        "row": 10,
        "width": 4
       }
      }
     }
    }
   },
   "outputs": [],
   "source": [
    "def getvalue(x): \n",
    "    return x\n",
    "\n",
    "# Make user interface\n",
    "\n",
    "style = {'description_width': '170px'}\n",
    "w1 = interactive(getvalue, x=ipw.BoundedFloatText(\n",
    "    value=3.0,\n",
    "    min=0,\n",
    "    max=30.0,\n",
    "    step=0.1,\n",
    "    description='$a_0$: Max accu in m year$^{-1}$:',\n",
    "    style=style,\n",
    "    disabled=False\n",
    "))\n",
    "# display(w1)\n",
    "\n",
    "w2 = interactive(getvalue, x=ipw.BoundedFloatText(\n",
    "    value=0.01,\n",
    "    min=0,\n",
    "    max=0.01,\n",
    "    step=0.0001,\n",
    "    description='$a_1$: Accu slope in year$^{-1}$:',\n",
    "    style=style,\n",
    "    disabled=False\n",
    "))\n",
    "# display(w2)\n",
    "\n",
    "w3 = interactive(getvalue, x=ipw.BoundedIntText(\n",
    "    value=100,\n",
    "    min=10,\n",
    "    max=500,\n",
    "    step=1,\n",
    "    description='$N$: Number of grid points:',\n",
    "    style=style,\n",
    "    disabled=False\n",
    "))\n",
    "# display(w3)\n",
    "\n",
    "w4=interactive(getvalue, x=ipw.widgets.Checkbox(\n",
    "    value=False,\n",
    "    description='Plot integrated accumulation',\n",
    "    disabled=False\n",
    "))\n",
    "\n",
    "\n"
   ]
  },
  {
   "cell_type": "code",
   "execution_count": 3,
   "metadata": {},
   "outputs": [],
   "source": [
    "def ice_flow_model_01(accu_plot, accu, accu_slope, num_grid): \n",
    "    \n",
    "    global fig1, ax11, ax21, ax22, ax23\n",
    "    fig1 = plt.figure()\n",
    "    gs = fig1.add_gridspec(3, 2)\n",
    "\n",
    "    # create sub plots as grid\n",
    "    ax11 = fig1.add_subplot(gs[:, 0])\n",
    "    ax21 = fig1.add_subplot(gs[0, 1])\n",
    "    ax22 = fig1.add_subplot(gs[1, 1])\n",
    "    ax23 = fig1.add_subplot(gs[2, 1])\n",
    "\n",
    "    fig1.set_size_inches(10, 4, forward=True)\n",
    "\n",
    "    A_0 = 1e-24\n",
    "    rho_i = 910\n",
    "    g = 9.81\n",
    "    n = 3\n",
    "    C = 2.0* A_0 * (rho_i*g)**n/(n+1)\n",
    "    \n",
    "    tmax=500\n",
    "\n",
    "    x=np.linspace(0, 1000, int(num_grid))\n",
    "    bed=-x/50\n",
    "    h=100 - np.power(x/20,2)\n",
    "    i_0 = np.where( h< 0)\n",
    "    h[i_0]=0\n",
    "    h=h.astype('float64')\n",
    "    s=bed+h\n",
    "    accu_array=(accu-x*accu_slope)/(365*24*60*60)\n",
    "    Int_accu = (accu*x-1/2*x*x*accu_slope)/(365*24*60*60)\n",
    "\n",
    "    # Data for plotting\n",
    "    num=50*len(x)*len(x)\n",
    "    t = np.linspace(0, tmax*(365*24*60*60), num)\n",
    "    L=0*t\n",
    "\n",
    "    delta_t_init=t[2]-t[1]\n",
    "    \n",
    "    delta_t=t[2]-t[1]\n",
    "    delta_x=x[2]-x[1]\n",
    "    k=0\n",
    "    \n",
    "    while (t[k]<tmax*(365*24*60*60) and k<num-1):\n",
    "        s=bed+h\n",
    "        ds_dx_p=(s[2:]-s[1:-1])/delta_x   # 1.5 to end-0.5\n",
    "        ds_dx_m=(s[1:-1]-s[:-2])/delta_x  # 0.5 to end-1.5\n",
    "\n",
    "        h_np1=np.power(h,(n+1))\n",
    "\n",
    "        q_p=-(h_np1[2:]   + h_np1[1:-1])/2.0 * np.power((np.abs(ds_dx_p)),(n-1.0))*ds_dx_p\n",
    "        q_m=-(h_np1[1:-1] + h_np1[:-2] )/2.0 * np.power((np.abs(ds_dx_m)),(n-1.0))*ds_dx_m\n",
    "\n",
    "        dq_dx=q_p-q_m  # 1.0 to end-1.0\n",
    "\n",
    "        q=0*h\n",
    "        q[1:-1] = C*(q_p+q_m)/2.0\n",
    "        u=q/(np.abs(h)+1e-6)\n",
    "\n",
    "        h[1:-1]=h[1:-1] - C*delta_t/delta_x*dq_dx + accu_array[1:-1]*delta_t\n",
    "\n",
    "        h[0] = h[1] + bed[1] - bed[0]\n",
    "        h[-1] = h[-2] + bed[-2] - bed[-1]\n",
    "        i_0 = np.where( h < 0)\n",
    "        h=np.where(h <= 0, 0, h)\n",
    "\n",
    "        u=np.where(h < 0, 0, u)\n",
    "        u[:-1]=np.where(h[1:] <= 0, 0, u[:-1])\n",
    "        i_0=np.nonzero(h[:-1]) \n",
    "        #u[i_0]=0\n",
    "        #u[i_0[0]-1]=0\n",
    "        L[k]=x[np.argmax(i_0)]\n",
    "        h[np.argmax(i_0)+1:]=0 # just in case, setting to zero what should be zero\n",
    "\n",
    "        if k==0:\n",
    "            ax21.plot(x/1000, accu_array*(365*24*60*60), color='black')\n",
    "            ax21.set(ylabel='accu [m/yr]', xlim=(0,max(x/1000)), \n",
    "                    ylim=(-accu*1.2,accu*1.2))\n",
    "            ax21.fill_between(x/1000,accu_array*(365*24*60*60),0, where=(accu_array > 0),color= \"blue\",alpha= 0.2, label='Snowfall')\n",
    "            ax21.fill_between(x/1000,accu_array*(365*24*60*60),0, where=(accu_array < 0),color= \"red\",alpha= 0.2, label='Melting')\n",
    "                \n",
    "            if accu_plot:\n",
    "\n",
    "                ax21b = ax21.twinx()\n",
    "                ax21b.plot(x/1000, Int_accu, color='r')\n",
    "                ax21b.set(xlim=(0,max(x/1000)), ylim=(0,max(Int_accu*1.2)))\n",
    "                \n",
    "                ax21b.set_ylabel('Integrated accu [m$^2$/s]', color='r')\n",
    "                ax21b.tick_params(axis='y', colors='r')\n",
    "            else:\n",
    "                ax21.legend()\n",
    "                ax21.grid()\n",
    "                        \n",
    "            ax21.set(title='t=%i years' %round(t[k]/(365*24*60*60),0))\n",
    "            ax21.set_yticks((-accu,0,accu))\n",
    "            ax11.grid()\n",
    "        elif k % 10000==0:\n",
    "            \n",
    "            ax21.set(title='t=%i years' %round(t[k]/(365*24*60*60),0))\n",
    "\n",
    "            ax22.clear()\n",
    "            ax22.plot(x/1000, bed, color='black')\n",
    "            ax22.fill_between(x/1000,bed,-1000,color= \"gray\",alpha= 0.2)\n",
    "\n",
    "            ax22.plot(x/1000, bed+h)\n",
    "            ax22.set(ylabel='z [m]', \n",
    "                   xlim=(0,max(x/1000)), ylim=(-20,0.01+max(bed+h)*1.25))\n",
    "            \n",
    "            ax23.clear()\n",
    "            ax23.plot( (x+delta_x)/1000, u*(365*24*60*60))\n",
    "            ax23.set(xlabel='x [km]', ylabel='u [m/yr]',\n",
    "                   xlim=(0,max(x/1000)))\n",
    "            \n",
    "            #ax4 = plt.subplot(1, 3, 3)\n",
    "            ax11.plot(t[:k]/(365*24*60*60), L[:k]/1000, color='black')\n",
    "            #ax4.plot(t[k]/(365*24*60*60), L[k]/1000, 'o', markersize=12)\n",
    "            ax11.set(xlabel='t [yrs]', ylabel='L [km]', xlim=(0, tmax), ylim=(0, max(x/1000))) \n",
    "\n",
    "            ax21.xaxis.set_tick_params(labelbottom=False)\n",
    "            ax22.xaxis.set_tick_params(labelbottom=False)\n",
    "            \n",
    "            display(plt.gcf())\n",
    "            \n",
    "            clear_output(wait=True)\n",
    "            \n",
    "        k=k+1\n",
    "        \n",
    "    ax21.set(title='t=%i years' %round(t[k]/(365*24*60*60),0))\n",
    "    \n",
    "    ax22.clear()\n",
    "    ax22.plot(x/1000, bed, color='black')\n",
    "    ax22.fill_between(\n",
    "        x/1000, \n",
    "        bed,\n",
    "        -1000,\n",
    "        color= \"gray\",\n",
    "        alpha= 0.2)\n",
    "    ax22.set()\n",
    "\n",
    "    ax22.plot(x/1000, bed+h)\n",
    "    ax22.set(ylabel='z [m]', \n",
    "           xlim=(0,max(x/1000)), ylim=(-20,0.01+max(bed+h)*1.25)) \n",
    "\n",
    "\n",
    "    ax23.clear()\n",
    "    ax23.plot((x+delta_x)/1000, u*(365*24*60*60))\n",
    "    ax23.set(xlabel='x [km]', ylabel='u [m/yr]',\n",
    "           xlim=(0,max(x/1000)))\n",
    "\n",
    "    #ax4 = plt.subplot(1, 3, 3)\n",
    "    ax11.plot(t[:k]/(365*24*60*60), L[:k]/1000, color='black')\n",
    "    #ax4.plot(t[k]/(365*24*60*60), L[k]/1000, 'o', markersize=12)\n",
    "    ax11.set(xlabel='t [yrs]', ylabel='L [km]', xlim=(0, tmax), ylim=(0, max(x/1000))) \n",
    "\n",
    "    ax21.xaxis.set_tick_params(labelbottom=False)\n",
    "    ax22.xaxis.set_tick_params(labelbottom=False)\n",
    "    \n",
    "    \n",
    "    display(plt.gcf())\n",
    "    clear_output(wait=True)    \n",
    "    return h"
   ]
  },
  {
   "cell_type": "markdown",
   "metadata": {},
   "source": [
    "# Part 1: Mass balance practical - time-dependent evolution"
   ]
  },
  {
   "cell_type": "code",
   "execution_count": 4,
   "metadata": {
    "extensions": {
     "jupyter_dashboards": {
      "version": 1,
      "views": {
       "grid_default": {
        "col": 6,
        "height": 15,
        "hidden": false,
        "row": 29,
        "width": "960px"
       },
       "report_default": {
        "col": 4,
        "height": 4,
        "hidden": false,
        "row": 10,
        "width": 4
       }
      }
     }
    }
   },
   "outputs": [
    {
     "data": {
      "application/vnd.jupyter.widget-view+json": {
       "model_id": "fc219ac256f84ab99fe78b26f5ec0a49",
       "version_major": 2,
       "version_minor": 0
      },
      "text/plain": [
       "HBox(children=(VBox(children=(interactive(children=(BoundedFloatText(value=3.0, description='$a_0$: Max accu i…"
      ]
     },
     "execution_count": 4,
     "metadata": {},
     "output_type": "execute_result"
    }
   ],
   "source": [
    "#left_box  = ipw.VBox([w1, w2, w3, w4])\n",
    "#right_box = ipw.VBox([w2, w6, w7, w8])\n",
    "#ipw.HBox([left_box,right_box])\n",
    "\n",
    "left_box  = ipw.VBox([w1])\n",
    "center_box = ipw.VBox([w2])\n",
    "right_box = ipw.VBox([w3])\n",
    "rightR_box = ipw.VBox([w4])\n",
    "ipw.HBox([left_box, center_box,right_box,rightR_box])"
   ]
  },
  {
   "cell_type": "code",
   "execution_count": 5,
   "metadata": {
    "extensions": {
     "jupyter_dashboards": {
      "version": 1,
      "views": {
       "grid_default": {
        "col": 6,
        "height": 15,
        "hidden": false,
        "row": 29,
        "width": "960px"
       },
       "report_default": {
        "col": 4,
        "height": 4,
        "hidden": false,
        "row": 10,
        "width": 4
       }
      }
     }
    },
    "scrolled": false
   },
   "outputs": [
    {
     "data": {
      "application/vnd.jupyter.widget-view+json": {
       "model_id": "a1ff0c5e6f0741b78e4e83be5b561019",
       "version_major": 2,
       "version_minor": 0
      },
      "text/plain": [
       "Button(description='Run the model', style=ButtonStyle())"
      ]
     },
     "metadata": {},
     "output_type": "display_data"
    },
    {
     "data": {
      "application/vnd.jupyter.widget-view+json": {
       "model_id": "ff14c04dc5674f4a823fbcf2270473ae",
       "version_major": 2,
       "version_minor": 0
      },
      "text/plain": [
       "Output()"
      ]
     },
     "metadata": {},
     "output_type": "display_data"
    }
   ],
   "source": [
    "# Loading the input parameters defined by the user\n",
    "button = ipw.Button(description=\"Run the model\")\n",
    "output = ipw.Output()\n",
    "display(button, output)\n",
    "\n",
    "global iter, h_final, fig1, ax11, ax21, ax22, ax23\n",
    "iter=0\n",
    "def on_button_clicked(b):\n",
    "    with output:\n",
    "        clear_output(wait=True)\n",
    "        accu=w1.result\n",
    "        accu_slope=w2.result\n",
    "        num_grid=w3.result\n",
    "        accu_plot=w4.result\n",
    "        \n",
    "        global iter, h_final\n",
    "        iter=iter+1 \n",
    "        \n",
    "        h_final=ice_flow_model_01(accu_plot,accu, accu_slope,num_grid)\n",
    "        \n",
    "button.on_click(on_button_clicked)"
   ]
  },
  {
   "cell_type": "markdown",
   "metadata": {},
   "source": [
    "Welcome! In this practical you will run a real <b>land-terminating</b> ice sheet model that solves for ice sheet mass balance and velocity. \n",
    "\n",
    "## What you will learn\n",
    "<ul>\n",
    "<li> Principles of ice sheet and glacier mass balance\n",
    "<li> Creating plots in Excel, incl. fitting data with a trendline. (if you follow the full instructions below.)\n",
    "</ul>\n",
    "\n",
    "In the model below, the surface mass balance (accumulation and ablation) is given by $$\\dot a=(\\dot a_0 - a_1 \\times x).$$ You can specify $\\dot a_0$, $a_1$ and the number of grid points used in the model (less grid points means the model runs faster).\n",
    "\n",
    "## Instructions for mass-balance class-room exercise\n",
    "<ol>\n",
    "<li> Run the model into steady state for 5 different values of $a_0$ between 1 m year$^{-1}$ and 5.0 m year$^{-1}$. Note the values of $a_0$, the value of $a_1$, and the final length of the glacier for each of your runs.\n",
    "<li> Run the model into steady state for 5 different values of $a_1$ between 0.1 year$^{-1}$ and 1.0 year$^{-1}$. Note the value of $a_0$, the values of $a_1$, and the final length of the glacier for each of your runs.\n",
    "<li> Create a scatter graph with $a_0$ on the $x$-axis and the final glacier length on the $y$ axis. What do you observe? Add a lienar trendline and note the equation of the trendline.\n",
    "<li> Create a scatter graph with $a_1$ on the $x$-axis and the final glacier length on the $y$ axis. What do you observe? Add a linear trendline and note the equation of the trendline. \n",
    "<li> Would there have been a faster way to determine these relationships?\n",
    "</ol>"
   ]
  },
  {
   "cell_type": "code",
   "execution_count": null,
   "metadata": {},
   "outputs": [],
   "source": []
  },
  {
   "cell_type": "code",
   "execution_count": null,
   "metadata": {},
   "outputs": [],
   "source": []
  },
  {
   "cell_type": "code",
   "execution_count": null,
   "metadata": {},
   "outputs": [],
   "source": []
  }
 ],
 "metadata": {
  "extensions": {
   "jupyter_dashboards": {
    "activeView": "report_default",
    "version": 1,
    "views": {
     "grid_default": {
      "cellMargin": 10,
      "defaultCellHeight": 20,
      "maxColumns": 12,
      "name": "grid",
      "type": "grid"
     },
     "report_default": {
      "name": "report",
      "type": "report"
     }
    }
   }
  },
  "kernelspec": {
   "display_name": "Python 3 (ipykernel)",
   "language": "python",
   "name": "python3"
  },
  "language_info": {
   "codemirror_mode": {
    "name": "ipython",
    "version": 3
   },
   "file_extension": ".py",
   "mimetype": "text/x-python",
   "name": "python",
   "nbconvert_exporter": "python",
   "pygments_lexer": "ipython3",
   "version": "3.10.8"
  }
 },
 "nbformat": 4,
 "nbformat_minor": 4
}
